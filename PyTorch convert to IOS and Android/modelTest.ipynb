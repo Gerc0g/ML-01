{
 "cells": [
  {
   "cell_type": "markdown",
   "metadata": {},
   "source": [
    "# Обучение и тест модели MLPModel\n",
    "1. Подготовка данных ф-ия MLPDataset из dataset.py\n",
    "2. Определение функции потерь и оптимизатора (MSE - среднеквадратичная ошибка,SGD - стохастический градиентный спуск)\n",
    "3. Обучение модели\n",
    "4. Обучение и тестирование на Кросс-Валидации, тк у нас очень маленькая выборка\n"
   ]
  },
  {
   "cell_type": "code",
   "execution_count": 1,
   "metadata": {},
   "outputs": [],
   "source": [
    "import torch.optim as optim\n",
    "import torch.nn as nn\n",
    "from linRegres import MLPModel\n",
    "from sklearn.model_selection import KFold\n",
    "import numpy as np\n"
   ]
  },
  {
   "cell_type": "code",
   "execution_count": null,
   "metadata": {},
   "outputs": [],
   "source": [
    "#Импорт модели\n",
    "model = MLPModel()\n",
    "#MSE\n",
    "criterion = nn.MSELoss()  \n",
    "# Стохастический градиентный спуск\n",
    "optimizer = optim.SGD(model.parameters(), lr=0.1)  #Епсилон = 0.1 с учетом нашего датасета [-1;1] это приемлемое значение"
   ]
  }
 ],
 "metadata": {
  "kernelspec": {
   "display_name": "Python 3",
   "language": "python",
   "name": "python3"
  },
  "language_info": {
   "codemirror_mode": {
    "name": "ipython",
    "version": 3
   },
   "file_extension": ".py",
   "mimetype": "text/x-python",
   "name": "python",
   "nbconvert_exporter": "python",
   "pygments_lexer": "ipython3",
   "version": "3.9.0"
  }
 },
 "nbformat": 4,
 "nbformat_minor": 2
}
