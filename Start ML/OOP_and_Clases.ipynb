{
 "cells": [
  {
   "cell_type": "code",
   "execution_count": 1,
   "metadata": {},
   "outputs": [],
   "source": [
    "from dataclasses import dataclass\n",
    "\n",
    "#Описание класса Auto с помощью библиотеки dataclases, некое краткое разыертывание класса из коробки\n",
    "@dataclass\n",
    "class Auto:\n",
    "    color: str\n",
    "    manufacture: str\n",
    "    series: str\n",
    "    fuel_type: str\n"
   ]
  },
  {
   "cell_type": "code",
   "execution_count": 3,
   "metadata": {},
   "outputs": [
    {
     "data": {
      "text/plain": [
       "Auto(color='red', manufacture='Ford', series='Mustang', fuel_type='Gasoline')"
      ]
     },
     "execution_count": 3,
     "metadata": {},
     "output_type": "execute_result"
    }
   ],
   "source": [
    "Car1 = Auto('red','Ford','Mustang','Gasoline')\n",
    "Car1"
   ]
  },
  {
   "cell_type": "code",
   "execution_count": 5,
   "metadata": {},
   "outputs": [],
   "source": [
    "#Общая конструкция класса\n",
    "#Длругими словами класс это как своеобразный тип данных, например тип int обозначает что число целове, класс car обозначает что машина красная и тд.\n",
    "class AutoSort:\n",
    "    #__init__ - конструктор класса, объявляет как нужно создавать объекты этого класса, клипает нам объекты этого класса\n",
    "    def __init__(self,color):   #self - указатель на самого себя, на объект который мы сейчас создаем\n",
    "        self.color = color"
   ]
  },
  {
   "cell_type": "code",
   "execution_count": 7,
   "metadata": {},
   "outputs": [
    {
     "data": {
      "text/plain": [
       "'red'"
      ]
     },
     "execution_count": 7,
     "metadata": {},
     "output_type": "execute_result"
    }
   ],
   "source": [
    "colored_car = AutoSort('red')\n",
    "colored_car.color"
   ]
  },
  {
   "cell_type": "code",
   "execution_count": 8,
   "metadata": {},
   "outputs": [
    {
     "data": {
      "text/plain": [
       "'blue'"
      ]
     },
     "execution_count": 8,
     "metadata": {},
     "output_type": "execute_result"
    }
   ],
   "source": [
    "colored_car.color = 'blue'\n",
    "colored_car.color"
   ]
  },
  {
   "cell_type": "code",
   "execution_count": 10,
   "metadata": {},
   "outputs": [],
   "source": [
    "#Методы класса, это функции прописаные внутри структуры класса\n",
    "#Свойства класса, это атрибуты или характеристики объекта, своеобразные переменные из которых строим объект класса\n",
    "\n",
    "class Alarm:\n",
    "    # VARIABLE : TYPE - схема которая обозначает какой тип данных в текущей переменной ожидается на вход\n",
    "    def __init__(self,color,alarm_sound:str):\n",
    "        self.color = color\n",
    "        self.alarm_sound = alarm_sound\n",
    "        \n",
    "    #Эта функция уйдет в каждый объект класса и каждый объект сможет ее вызывать\n",
    "    def alarm(self):\n",
    "        #Таким образом внутри фунции моэем обращаться к свойствам объекта\n",
    "        print(f\"{self.color} car, say long {self.alarm_sound}\")"
   ]
  },
  {
   "cell_type": "code",
   "execution_count": 13,
   "metadata": {},
   "outputs": [
    {
     "name": "stdout",
     "output_type": "stream",
     "text": [
      "red car, say long BEEEEEEEEP-BEEEEEEEP\n"
     ]
    }
   ],
   "source": [
    "beep_car = Alarm('red', 'BEEEEEEEEP-BEEEEEEEP')\n",
    "#Своего рода beep_car это и есть тот self к которому мы обращаемся и из которого берем свойства для наших методов\n",
    "beep_car.alarm()"
   ]
  },
  {
   "cell_type": "code",
   "execution_count": 16,
   "metadata": {},
   "outputs": [
    {
     "name": "stdout",
     "output_type": "stream",
     "text": [
      "red car, say long BEEEEEEEEP-BEEEEEEEP\n"
     ]
    }
   ],
   "source": [
    "#Допустим при вызове 'beep_car' мы получаем вывод <__main__.Alarm at 0x1d4f479e150>, ячейка памяти в которой хранится наш объект \n",
    "beep_car\n",
    "\n",
    "#При вызове 'beep_car.alarm' мы получаем <bound method Alarm.alarm of <__main__.Alarm object at 0x000001D4F479E150>>, указано что метод ссылается\n",
    "# на ту же ячейку памяти, потому что мы вызвали этот метод из под объекта beep_car\n",
    "beep_car.alarm\n",
    "\n",
    "#Соответственно при вызове 'beep_car.alarm()' мы получим вывод из под этого объекта, так ак хоть явно мы ничего не передаем в аргументы метода, но \n",
    "# python подразумевает и видит из под какого объекта вызывается этот метод класса и аргумент 'self' в классе который мы описали получет на вход\n",
    "# ячейку памяти где лежат аргументы/свойста объекта 'beep_car'\n",
    "beep_car.alarm()"
   ]
  },
  {
   "cell_type": "markdown",
   "metadata": {},
   "source": [
    "# Основные принципы ООП\n",
    "\n",
    "Четыре основных принципа объектно-ориентированного программирования следующие.\n",
    "\n",
    "## Абстракция. \n",
    "Моделирование требуемых атрибутов и взаимодействий сущностей в виде классов для определения абстрактного представления системы\n",
    "\n",
    "## Инкапсуляция.\n",
    "Скрытие внутреннего состояния и функций объекта и предоставление доступа только через открытый набор функций\n",
    "\n",
    "## Наследование. \n",
    "Возможность создания новых абстракций на основе существующих\n",
    "\n",
    "## Полиморфизм. \n",
    "Возможность реализации наследуемых свойств или методов отличающимися способами в рамках множества абстракций\n",
    "\n",
    "## *\n",
    "\n",
    "### Единообразие интерфейсов - все объекты, работающие по одному принципу, имеют одинаковый интерфейс для взаимодействия.\n",
    "\n",
    "### Сокрытие информации - ограничение доступа к внутренней структуре объекта, что позволяет изменять его реализацию без влияния на внешний код."
   ]
  },
  {
   "cell_type": "markdown",
   "metadata": {},
   "source": [
    "# Принципы наследования\n",
    "1. Дочерний класс должен лишь расширять логику родительского, а не переписывать и не изменять ее.\n",
    "2. Принцип Барбары Лисков - Важно что если мы заменим родительские классы на дочерние, то код все равно будет работать, так как дочерний класс не меняет логику родительского а лишь расширяет ее.\n",
    "\n",
    "\n",
    "### Важно знать что мы можем осуществлять множественное наследование, а именно дочерний класс от двух и более родительских сразу!"
   ]
  },
  {
   "cell_type": "code",
   "execution_count": 1,
   "metadata": {},
   "outputs": [],
   "source": [
    "#Наследование - своего рода есть класс, но захотели сделать другой который делает чуть чуть больше предидущего но не меняя структуру предидущего\n",
    "\n",
    "#Родительский класс auto\n",
    "class Auto:\n",
    "    \n",
    "    color = '' #Свойства по сути моэем записать и там и там\n",
    "    name = '' #Все зависит от того как вы хотите их задать, статично внутри класса или динамически при создании объекта класса\n",
    "    alarm = '' #Также можно сделать и так и так, а статически оставить ка кнекий деволтный шаблон\n",
    "    \n",
    "    def __init__(self, color:str, alarm:str, name:str):\n",
    "        self.name = name\n",
    "        self.color = color\n",
    "        self.alarm = alarm\n",
    "        \n",
    "    def beep(self):\n",
    "        print(self.alarm)\n",
    "        \n",
    "\n",
    "#Захотели допустим расширить этот класс\n",
    "\n",
    "#Дочерний класс autowithalarm\n",
    "\n",
    "class AutoWithAlarm(Auto):\n",
    "    #Добавили новый функционал\n",
    "    def alarm(self):\n",
    "        print('piy-piy')"
   ]
  },
  {
   "cell_type": "markdown",
   "metadata": {},
   "source": [
    "# Инверсия зависимостей"
   ]
  },
  {
   "cell_type": "code",
   "execution_count": null,
   "metadata": {},
   "outputs": [],
   "source": [
    "#Инверсия зависимостей - принцип проектирования который гласит, что высокие уровни не должны наследоваться от низких и наоборот.\n",
    "#Вместо этого зависимость должна идти в направлении более абстрактных слоев.\n",
    "#Это позволяет компонентам быть более гибкими и легко заменяемыми.\n",
    "\n",
    "#Общий абстрактный класс - от него наследуются детали\n",
    "class GeneralAuto:\n",
    "    color = ''\n",
    "    name = ''\n",
    "    \n",
    "#Добавляем специфичную функцию не свойственную всем автомобилям\n",
    "class AutoTransmission(GeneralAuto):\n",
    "    def set_position(self, position):\n",
    "        if position == 'D':\n",
    "            print('Going forward')\n",
    "\n",
    "#Добавляем специфичную функцию не свойственную всем автомобилям      \n",
    "class ManualTransmission(GeneralAuto):\n",
    "    def set_transmission(self, step):\n",
    "        if step == 'R':\n",
    "            print('going bacwards')        "
   ]
  },
  {
   "cell_type": "markdown",
   "metadata": {},
   "source": [
    "# Перегрузка \n",
    "Перегрузка - это механизм в объектно-ориентированных языках программирования, который позволяет иметь несколько методов с одним и тем же именем, но с разной сигнатурой. Это означает, что методы могут отличаться по количеству и типу аргументов, а также по возвращаемому типу."
   ]
  },
  {
   "cell_type": "code",
   "execution_count": 13,
   "metadata": {},
   "outputs": [],
   "source": [
    "#Перегрузка - переопределение метода или поля в дочернем классе\n",
    "\n",
    "class Auto:\n",
    "    color = ''\n",
    "    name = ''\n",
    "    alarm_sound = ''\n",
    "    \n",
    "    def __init__(self, color:str, name:str, alarm_sound:str):\n",
    "        self.name = name\n",
    "        self.color = color\n",
    "        self.alarm_sound = alarm_sound\n",
    "    \n",
    "    def beep(self):\n",
    "        print(self.alarm_sound)\n",
    "        \n",
    "        \n",
    "class AutoCustomBeep(Auto):\n",
    "    #берем и нагло меняем поведение - переопределяем метод родителя\n",
    "    def beep(self):\n",
    "        #кстати можно вызывать родиительскую версию super().beep()\n",
    "        #super.beep()\n",
    "        print('beep broke, sorry')\n",
    "    "
   ]
  },
  {
   "cell_type": "code",
   "execution_count": 14,
   "metadata": {},
   "outputs": [
    {
     "name": "stdout",
     "output_type": "stream",
     "text": [
      "beep broke, sorry\n"
     ]
    }
   ],
   "source": [
    "car_broken = AutoCustomBeep('red','Volvo','beep')\n",
    "car_broken.beep()"
   ]
  },
  {
   "cell_type": "markdown",
   "metadata": {},
   "source": [
    "# Полиморфизм\n",
    "В Python, не сильно примеяется тк тут дамическая типизация\n",
    "\n",
    "\n",
    "Полиморфизм - это способность объекта выполнять разное поведение в зависимости от типа объекта. В объектно-ориентированном программировании полиморфизм реализуется через интерфейсы и наследование.\n",
    "\n",
    "Существует несколько видов полиморфизма:\n",
    "\n",
    "– compile-time полиморфизм (статический или early binding) - когда выбор метода осуществляется на этапе компиляции;\n",
    "\n",
    "– run-time полиморфизм (динамический или late binding) - выбор метода происходит во время выполнения программы."
   ]
  },
  {
   "cell_type": "code",
   "execution_count": 16,
   "metadata": {},
   "outputs": [],
   "source": [
    "#Полиморфизм - возможность создавать один и тот же метод в классе, работающий с данными разного типа.\n",
    "\n",
    "class NumberPrinter:\n",
    "    def print_number(self, num:int):\n",
    "        print(f'integer {num}')\n",
    "        \n",
    "    def print_number(self, num:str):\n",
    "        print(f'string {num}')\n",
    "        \n",
    "        \n",
    "#Текущий прмер в python работать не будет, он лишь возьмет последнюю реалиацию функции"
   ]
  },
  {
   "cell_type": "markdown",
   "metadata": {},
   "source": [
    "# Магические методы python"
   ]
  },
  {
   "cell_type": "code",
   "execution_count": 17,
   "metadata": {},
   "outputs": [],
   "source": [
    "class Vector3D:\n",
    "    def __init__(self, x, y, z):\n",
    "        self.x, self.y, self.z = x,y,z\n",
    "        \n",
    "    #__add__ - добавляет возможность складывать объекты\n",
    "    def __add__(self, other):\n",
    "        return Vector3D(self.x + other.x, self.y +other.y, self.z+other.z)"
   ]
  },
  {
   "cell_type": "code",
   "execution_count": 21,
   "metadata": {},
   "outputs": [
    {
     "name": "stdout",
     "output_type": "stream",
     "text": [
      "<__main__.Vector3D object at 0x000001CD1720E110>\n"
     ]
    },
    {
     "data": {
      "text/plain": [
       "5"
      ]
     },
     "execution_count": 21,
     "metadata": {},
     "output_type": "execute_result"
    }
   ],
   "source": [
    "vec1 = Vector3D(1,3,5)\n",
    "vec2 = Vector3D(4,6,7)\n",
    "\n",
    "sum_vec = vec1 + vec2\n",
    "\n",
    "print(sum_vec)\n",
    "\n",
    "sum_vec.x"
   ]
  }
 ],
 "metadata": {
  "kernelspec": {
   "display_name": "Python 3",
   "language": "python",
   "name": "python3"
  },
  "language_info": {
   "codemirror_mode": {
    "name": "ipython",
    "version": 3
   },
   "file_extension": ".py",
   "mimetype": "text/x-python",
   "name": "python",
   "nbconvert_exporter": "python",
   "pygments_lexer": "ipython3",
   "version": "3.11.7"
  }
 },
 "nbformat": 4,
 "nbformat_minor": 2
}
