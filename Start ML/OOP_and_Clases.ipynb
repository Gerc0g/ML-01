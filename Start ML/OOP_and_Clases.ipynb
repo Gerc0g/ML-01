{
 "cells": [
  {
   "cell_type": "code",
   "execution_count": null,
   "metadata": {},
   "outputs": [],
   "source": [
    "from dataclasses import dataclass\n",
    "\n",
    "#Описание класса Auto с помощью библиотеки dataclases, некое краткое разыертывание класса из коробки\n",
    "@dataclass\n",
    "class Auto:\n",
    "    color: str\n",
    "    manufacture: str\n",
    "    series: str\n",
    "    fuel_type: str\n"
   ]
  }
 ],
 "metadata": {
  "language_info": {
   "name": "python"
  }
 },
 "nbformat": 4,
 "nbformat_minor": 2
}
