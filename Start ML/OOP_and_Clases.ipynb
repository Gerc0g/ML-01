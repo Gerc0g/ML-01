{
 "cells": [
  {
   "cell_type": "code",
   "execution_count": 1,
   "metadata": {},
   "outputs": [],
   "source": [
    "from dataclasses import dataclass\n",
    "\n",
    "#Описание класса Auto с помощью библиотеки dataclases, некое краткое разыертывание класса из коробки\n",
    "@dataclass\n",
    "class Auto:\n",
    "    color: str\n",
    "    manufacture: str\n",
    "    series: str\n",
    "    fuel_type: str\n"
   ]
  },
  {
   "cell_type": "code",
   "execution_count": 3,
   "metadata": {},
   "outputs": [
    {
     "data": {
      "text/plain": [
       "Auto(color='red', manufacture='Ford', series='Mustang', fuel_type='Gasoline')"
      ]
     },
     "execution_count": 3,
     "metadata": {},
     "output_type": "execute_result"
    }
   ],
   "source": [
    "Car1 = Auto('red','Ford','Mustang','Gasoline')\n",
    "Car1"
   ]
  },
  {
   "cell_type": "code",
   "execution_count": 5,
   "metadata": {},
   "outputs": [],
   "source": [
    "#Общая конструкция класса\n",
    "#Длругими словами класс это как своеобразный тип данных, например тип int обозначает что число целове, класс car обозначает что машина красная и тд.\n",
    "class AutoSort:\n",
    "    #__init__ - конструктор класса, объявляет как нужно создавать объекты этого класса, клипает нам объекты этого класса\n",
    "    def __init__(self,color):   #self - указатель на самого себя, на объект который мы сейчас создаем\n",
    "        self.color = color"
   ]
  },
  {
   "cell_type": "code",
   "execution_count": 7,
   "metadata": {},
   "outputs": [
    {
     "data": {
      "text/plain": [
       "'red'"
      ]
     },
     "execution_count": 7,
     "metadata": {},
     "output_type": "execute_result"
    }
   ],
   "source": [
    "colored_car = AutoSort('red')\n",
    "colored_car.color"
   ]
  },
  {
   "cell_type": "code",
   "execution_count": 8,
   "metadata": {},
   "outputs": [
    {
     "data": {
      "text/plain": [
       "'blue'"
      ]
     },
     "execution_count": 8,
     "metadata": {},
     "output_type": "execute_result"
    }
   ],
   "source": [
    "colored_car.color = 'blue'\n",
    "colored_car.color"
   ]
  },
  {
   "cell_type": "code",
   "execution_count": 10,
   "metadata": {},
   "outputs": [],
   "source": [
    "#Методы класса, это функции прописаные внутри структуры класса\n",
    "#Свойства класса, это атрибуты или характеристики объекта, своеобразные переменные из которых строим объект класса\n",
    "\n",
    "class Alarm:\n",
    "    # VARIABLE : TYPE - схема которая обозначает какой тип данных в текущей переменной ожидается на вход\n",
    "    def __init__(self,color,alarm_sound:str):\n",
    "        self.color = color\n",
    "        self.alarm_sound = alarm_sound\n",
    "        \n",
    "    #Эта функция уйдет в каждый объект класса и каждый объект сможет ее вызывать\n",
    "    def alarm(self):\n",
    "        #Таким образом внутри фунции моэем обращаться к свойствам объекта\n",
    "        print(f\"{self.color} car, say long {self.alarm_sound}\")"
   ]
  },
  {
   "cell_type": "code",
   "execution_count": 13,
   "metadata": {},
   "outputs": [
    {
     "name": "stdout",
     "output_type": "stream",
     "text": [
      "red car, say long BEEEEEEEEP-BEEEEEEEP\n"
     ]
    }
   ],
   "source": [
    "beep_car = Alarm('red', 'BEEEEEEEEP-BEEEEEEEP')\n",
    "#Своего рода beep_car это и есть тот self к которому мы обращаемся и из которого берем свойства для наших методов\n",
    "beep_car.alarm()"
   ]
  },
  {
   "cell_type": "code",
   "execution_count": 16,
   "metadata": {},
   "outputs": [
    {
     "name": "stdout",
     "output_type": "stream",
     "text": [
      "red car, say long BEEEEEEEEP-BEEEEEEEP\n"
     ]
    }
   ],
   "source": [
    "#Допустим при вызове 'beep_car' мы получаем вывод <__main__.Alarm at 0x1d4f479e150>, ячейка памяти в которой хранится наш объект \n",
    "beep_car\n",
    "\n",
    "#При вызове 'beep_car.alarm' мы получаем <bound method Alarm.alarm of <__main__.Alarm object at 0x000001D4F479E150>>, указано что метод ссылается\n",
    "# на ту же ячейку памяти, потому что мы вызвали этот метод из под объекта beep_car\n",
    "beep_car.alarm\n",
    "\n",
    "#Соответственно при вызове 'beep_car.alarm()' мы получим вывод из под этого объекта, так ак хоть явно мы ничего не передаем в аргументы метода, но \n",
    "# python подразумевает и видит из под какого объекта вызывается этот метод класса и аргумент 'self' в классе который мы описали получет на вход\n",
    "# ячейку памяти где лежат аргументы/свойста объекта 'beep_car'\n",
    "beep_car.alarm()"
   ]
  },
  {
   "cell_type": "code",
   "execution_count": null,
   "metadata": {},
   "outputs": [],
   "source": []
  }
 ],
 "metadata": {
  "kernelspec": {
   "display_name": "Python 3",
   "language": "python",
   "name": "python3"
  },
  "language_info": {
   "codemirror_mode": {
    "name": "ipython",
    "version": 3
   },
   "file_extension": ".py",
   "mimetype": "text/x-python",
   "name": "python",
   "nbconvert_exporter": "python",
   "pygments_lexer": "ipython3",
   "version": "3.11.7"
  }
 },
 "nbformat": 4,
 "nbformat_minor": 2
}
